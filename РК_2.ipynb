{
  "cells": [
    {
      "cell_type": "markdown",
      "id": "9758b573",
      "metadata": {
        "id": "9758b573"
      },
      "source": [
        "# Рубежный контроль №2\n",
        "\n",
        "### Тема: Методы обработки текстов.\n",
        "### Решение задачи классификации текстов.\n",
        "\n",
        "Необходимо решить задачу классификации текстов на основе любого выбранного Вами датасета (кроме примера, который рассматривался в лекции). Классификация может быть бинарной или многоклассовой. Целевой признак из выбранного Вами датасета может иметь любой физический смысл, примером является задача анализа тональности текста.\n",
        "\n",
        "Необходимо сформировать два варианта векторизации признаков - на основе CountVectorizer и на основе TfidfVectorizer.\n",
        "\n",
        "ИУ5-23М: LinearSVC, LogisticRegression"
      ]
    },
    {
      "cell_type": "code",
      "execution_count": 17,
      "id": "0bee6db2",
      "metadata": {
        "id": "0bee6db2"
      },
      "outputs": [],
      "source": [
        "from sklearn.feature_extraction.text import CountVectorizer, TfidfVectorizer\n",
        "from sklearn.model_selection import train_test_split\n",
        "from sklearn.svm import LinearSVC\n",
        "from sklearn.linear_model import LogisticRegression\n",
        "from sklearn.metrics import accuracy_score\n",
        "import pandas as pd\n",
        "import time"
      ]
    },
    {
      "cell_type": "code",
      "execution_count": 32,
      "id": "3ab46f13",
      "metadata": {
        "id": "3ab46f13"
      },
      "outputs": [],
      "source": [
        "# Загрузка данных\n",
        "df = pd.read_csv('cherry_blossom_forecasts.csv')"
      ]
    },
    {
      "cell_type": "code",
      "execution_count": 33,
      "id": "b985914e",
      "metadata": {
        "colab": {
          "base_uri": "https://localhost:8080/",
          "height": 363
        },
        "id": "b985914e",
        "outputId": "483079e0-13f3-4a79-f409-9080fa660806"
      },
      "outputs": [
        {
          "output_type": "execute_result",
          "data": {
            "text/plain": [
              "   place_code        date mankai_date  kaika_date  meter  tavg  tmin  tmax  \\\n",
              "0     1370053  2024-02-01  2024-05-12  2024-05-07     12  -7.8 -11.4  -5.3   \n",
              "1     1370022  2024-02-01  2024-05-03  2024-04-29     12  -4.2  -7.6   0.5   \n",
              "2     1370024  2024-02-01  2024-05-09  2024-05-04     10  -4.2  -7.6   0.5   \n",
              "3     1370028  2024-02-01  2024-05-10  2024-05-04     13  -5.6  -6.8  -4.5   \n",
              "4     1370029  2024-02-01  2024-05-09  2024-05-06     13   NaN   NaN   NaN   \n",
              "5     1370030  2024-02-01  2024-05-15  2024-05-09     12  -7.1  -7.8  -1.1   \n",
              "6     1370032  2024-02-01  2024-05-10  2024-05-05     11  -5.2  -8.0   0.0   \n",
              "7     1370041  2024-02-01  2024-05-13  2024-05-05     12  -2.6  -4.9   4.0   \n",
              "8     1370046  2024-02-01  2024-05-12  2024-05-07     11   NaN   NaN   NaN   \n",
              "9     1370055  2024-02-01  2024-05-09  2024-05-03     11   NaN   NaN   NaN   \n",
              "\n",
              "   prcp  \n",
              "0   4.1  \n",
              "1   0.3  \n",
              "2   0.3  \n",
              "3   0.0  \n",
              "4   NaN  \n",
              "5   3.0  \n",
              "6   2.6  \n",
              "7   5.0  \n",
              "8   NaN  \n",
              "9   NaN  "
            ],
            "text/html": [
              "\n",
              "  <div id=\"df-14d94abf-9c67-4027-b58f-4348e12dc32e\" class=\"colab-df-container\">\n",
              "    <div>\n",
              "<style scoped>\n",
              "    .dataframe tbody tr th:only-of-type {\n",
              "        vertical-align: middle;\n",
              "    }\n",
              "\n",
              "    .dataframe tbody tr th {\n",
              "        vertical-align: top;\n",
              "    }\n",
              "\n",
              "    .dataframe thead th {\n",
              "        text-align: right;\n",
              "    }\n",
              "</style>\n",
              "<table border=\"1\" class=\"dataframe\">\n",
              "  <thead>\n",
              "    <tr style=\"text-align: right;\">\n",
              "      <th></th>\n",
              "      <th>place_code</th>\n",
              "      <th>date</th>\n",
              "      <th>mankai_date</th>\n",
              "      <th>kaika_date</th>\n",
              "      <th>meter</th>\n",
              "      <th>tavg</th>\n",
              "      <th>tmin</th>\n",
              "      <th>tmax</th>\n",
              "      <th>prcp</th>\n",
              "    </tr>\n",
              "  </thead>\n",
              "  <tbody>\n",
              "    <tr>\n",
              "      <th>0</th>\n",
              "      <td>1370053</td>\n",
              "      <td>2024-02-01</td>\n",
              "      <td>2024-05-12</td>\n",
              "      <td>2024-05-07</td>\n",
              "      <td>12</td>\n",
              "      <td>-7.8</td>\n",
              "      <td>-11.4</td>\n",
              "      <td>-5.3</td>\n",
              "      <td>4.1</td>\n",
              "    </tr>\n",
              "    <tr>\n",
              "      <th>1</th>\n",
              "      <td>1370022</td>\n",
              "      <td>2024-02-01</td>\n",
              "      <td>2024-05-03</td>\n",
              "      <td>2024-04-29</td>\n",
              "      <td>12</td>\n",
              "      <td>-4.2</td>\n",
              "      <td>-7.6</td>\n",
              "      <td>0.5</td>\n",
              "      <td>0.3</td>\n",
              "    </tr>\n",
              "    <tr>\n",
              "      <th>2</th>\n",
              "      <td>1370024</td>\n",
              "      <td>2024-02-01</td>\n",
              "      <td>2024-05-09</td>\n",
              "      <td>2024-05-04</td>\n",
              "      <td>10</td>\n",
              "      <td>-4.2</td>\n",
              "      <td>-7.6</td>\n",
              "      <td>0.5</td>\n",
              "      <td>0.3</td>\n",
              "    </tr>\n",
              "    <tr>\n",
              "      <th>3</th>\n",
              "      <td>1370028</td>\n",
              "      <td>2024-02-01</td>\n",
              "      <td>2024-05-10</td>\n",
              "      <td>2024-05-04</td>\n",
              "      <td>13</td>\n",
              "      <td>-5.6</td>\n",
              "      <td>-6.8</td>\n",
              "      <td>-4.5</td>\n",
              "      <td>0.0</td>\n",
              "    </tr>\n",
              "    <tr>\n",
              "      <th>4</th>\n",
              "      <td>1370029</td>\n",
              "      <td>2024-02-01</td>\n",
              "      <td>2024-05-09</td>\n",
              "      <td>2024-05-06</td>\n",
              "      <td>13</td>\n",
              "      <td>NaN</td>\n",
              "      <td>NaN</td>\n",
              "      <td>NaN</td>\n",
              "      <td>NaN</td>\n",
              "    </tr>\n",
              "    <tr>\n",
              "      <th>5</th>\n",
              "      <td>1370030</td>\n",
              "      <td>2024-02-01</td>\n",
              "      <td>2024-05-15</td>\n",
              "      <td>2024-05-09</td>\n",
              "      <td>12</td>\n",
              "      <td>-7.1</td>\n",
              "      <td>-7.8</td>\n",
              "      <td>-1.1</td>\n",
              "      <td>3.0</td>\n",
              "    </tr>\n",
              "    <tr>\n",
              "      <th>6</th>\n",
              "      <td>1370032</td>\n",
              "      <td>2024-02-01</td>\n",
              "      <td>2024-05-10</td>\n",
              "      <td>2024-05-05</td>\n",
              "      <td>11</td>\n",
              "      <td>-5.2</td>\n",
              "      <td>-8.0</td>\n",
              "      <td>0.0</td>\n",
              "      <td>2.6</td>\n",
              "    </tr>\n",
              "    <tr>\n",
              "      <th>7</th>\n",
              "      <td>1370041</td>\n",
              "      <td>2024-02-01</td>\n",
              "      <td>2024-05-13</td>\n",
              "      <td>2024-05-05</td>\n",
              "      <td>12</td>\n",
              "      <td>-2.6</td>\n",
              "      <td>-4.9</td>\n",
              "      <td>4.0</td>\n",
              "      <td>5.0</td>\n",
              "    </tr>\n",
              "    <tr>\n",
              "      <th>8</th>\n",
              "      <td>1370046</td>\n",
              "      <td>2024-02-01</td>\n",
              "      <td>2024-05-12</td>\n",
              "      <td>2024-05-07</td>\n",
              "      <td>11</td>\n",
              "      <td>NaN</td>\n",
              "      <td>NaN</td>\n",
              "      <td>NaN</td>\n",
              "      <td>NaN</td>\n",
              "    </tr>\n",
              "    <tr>\n",
              "      <th>9</th>\n",
              "      <td>1370055</td>\n",
              "      <td>2024-02-01</td>\n",
              "      <td>2024-05-09</td>\n",
              "      <td>2024-05-03</td>\n",
              "      <td>11</td>\n",
              "      <td>NaN</td>\n",
              "      <td>NaN</td>\n",
              "      <td>NaN</td>\n",
              "      <td>NaN</td>\n",
              "    </tr>\n",
              "  </tbody>\n",
              "</table>\n",
              "</div>\n",
              "    <div class=\"colab-df-buttons\">\n",
              "\n",
              "  <div class=\"colab-df-container\">\n",
              "    <button class=\"colab-df-convert\" onclick=\"convertToInteractive('df-14d94abf-9c67-4027-b58f-4348e12dc32e')\"\n",
              "            title=\"Convert this dataframe to an interactive table.\"\n",
              "            style=\"display:none;\">\n",
              "\n",
              "  <svg xmlns=\"http://www.w3.org/2000/svg\" height=\"24px\" viewBox=\"0 -960 960 960\">\n",
              "    <path d=\"M120-120v-720h720v720H120Zm60-500h600v-160H180v160Zm220 220h160v-160H400v160Zm0 220h160v-160H400v160ZM180-400h160v-160H180v160Zm440 0h160v-160H620v160ZM180-180h160v-160H180v160Zm440 0h160v-160H620v160Z\"/>\n",
              "  </svg>\n",
              "    </button>\n",
              "\n",
              "  <style>\n",
              "    .colab-df-container {\n",
              "      display:flex;\n",
              "      gap: 12px;\n",
              "    }\n",
              "\n",
              "    .colab-df-convert {\n",
              "      background-color: #E8F0FE;\n",
              "      border: none;\n",
              "      border-radius: 50%;\n",
              "      cursor: pointer;\n",
              "      display: none;\n",
              "      fill: #1967D2;\n",
              "      height: 32px;\n",
              "      padding: 0 0 0 0;\n",
              "      width: 32px;\n",
              "    }\n",
              "\n",
              "    .colab-df-convert:hover {\n",
              "      background-color: #E2EBFA;\n",
              "      box-shadow: 0px 1px 2px rgba(60, 64, 67, 0.3), 0px 1px 3px 1px rgba(60, 64, 67, 0.15);\n",
              "      fill: #174EA6;\n",
              "    }\n",
              "\n",
              "    .colab-df-buttons div {\n",
              "      margin-bottom: 4px;\n",
              "    }\n",
              "\n",
              "    [theme=dark] .colab-df-convert {\n",
              "      background-color: #3B4455;\n",
              "      fill: #D2E3FC;\n",
              "    }\n",
              "\n",
              "    [theme=dark] .colab-df-convert:hover {\n",
              "      background-color: #434B5C;\n",
              "      box-shadow: 0px 1px 3px 1px rgba(0, 0, 0, 0.15);\n",
              "      filter: drop-shadow(0px 1px 2px rgba(0, 0, 0, 0.3));\n",
              "      fill: #FFFFFF;\n",
              "    }\n",
              "  </style>\n",
              "\n",
              "    <script>\n",
              "      const buttonEl =\n",
              "        document.querySelector('#df-14d94abf-9c67-4027-b58f-4348e12dc32e button.colab-df-convert');\n",
              "      buttonEl.style.display =\n",
              "        google.colab.kernel.accessAllowed ? 'block' : 'none';\n",
              "\n",
              "      async function convertToInteractive(key) {\n",
              "        const element = document.querySelector('#df-14d94abf-9c67-4027-b58f-4348e12dc32e');\n",
              "        const dataTable =\n",
              "          await google.colab.kernel.invokeFunction('convertToInteractive',\n",
              "                                                    [key], {});\n",
              "        if (!dataTable) return;\n",
              "\n",
              "        const docLinkHtml = 'Like what you see? Visit the ' +\n",
              "          '<a target=\"_blank\" href=https://colab.research.google.com/notebooks/data_table.ipynb>data table notebook</a>'\n",
              "          + ' to learn more about interactive tables.';\n",
              "        element.innerHTML = '';\n",
              "        dataTable['output_type'] = 'display_data';\n",
              "        await google.colab.output.renderOutput(dataTable, element);\n",
              "        const docLink = document.createElement('div');\n",
              "        docLink.innerHTML = docLinkHtml;\n",
              "        element.appendChild(docLink);\n",
              "      }\n",
              "    </script>\n",
              "  </div>\n",
              "\n",
              "\n",
              "<div id=\"df-fee22b60-30cc-4a36-b0b9-ec94a5193b42\">\n",
              "  <button class=\"colab-df-quickchart\" onclick=\"quickchart('df-fee22b60-30cc-4a36-b0b9-ec94a5193b42')\"\n",
              "            title=\"Suggest charts\"\n",
              "            style=\"display:none;\">\n",
              "\n",
              "<svg xmlns=\"http://www.w3.org/2000/svg\" height=\"24px\"viewBox=\"0 0 24 24\"\n",
              "     width=\"24px\">\n",
              "    <g>\n",
              "        <path d=\"M19 3H5c-1.1 0-2 .9-2 2v14c0 1.1.9 2 2 2h14c1.1 0 2-.9 2-2V5c0-1.1-.9-2-2-2zM9 17H7v-7h2v7zm4 0h-2V7h2v10zm4 0h-2v-4h2v4z\"/>\n",
              "    </g>\n",
              "</svg>\n",
              "  </button>\n",
              "\n",
              "<style>\n",
              "  .colab-df-quickchart {\n",
              "      --bg-color: #E8F0FE;\n",
              "      --fill-color: #1967D2;\n",
              "      --hover-bg-color: #E2EBFA;\n",
              "      --hover-fill-color: #174EA6;\n",
              "      --disabled-fill-color: #AAA;\n",
              "      --disabled-bg-color: #DDD;\n",
              "  }\n",
              "\n",
              "  [theme=dark] .colab-df-quickchart {\n",
              "      --bg-color: #3B4455;\n",
              "      --fill-color: #D2E3FC;\n",
              "      --hover-bg-color: #434B5C;\n",
              "      --hover-fill-color: #FFFFFF;\n",
              "      --disabled-bg-color: #3B4455;\n",
              "      --disabled-fill-color: #666;\n",
              "  }\n",
              "\n",
              "  .colab-df-quickchart {\n",
              "    background-color: var(--bg-color);\n",
              "    border: none;\n",
              "    border-radius: 50%;\n",
              "    cursor: pointer;\n",
              "    display: none;\n",
              "    fill: var(--fill-color);\n",
              "    height: 32px;\n",
              "    padding: 0;\n",
              "    width: 32px;\n",
              "  }\n",
              "\n",
              "  .colab-df-quickchart:hover {\n",
              "    background-color: var(--hover-bg-color);\n",
              "    box-shadow: 0 1px 2px rgba(60, 64, 67, 0.3), 0 1px 3px 1px rgba(60, 64, 67, 0.15);\n",
              "    fill: var(--button-hover-fill-color);\n",
              "  }\n",
              "\n",
              "  .colab-df-quickchart-complete:disabled,\n",
              "  .colab-df-quickchart-complete:disabled:hover {\n",
              "    background-color: var(--disabled-bg-color);\n",
              "    fill: var(--disabled-fill-color);\n",
              "    box-shadow: none;\n",
              "  }\n",
              "\n",
              "  .colab-df-spinner {\n",
              "    border: 2px solid var(--fill-color);\n",
              "    border-color: transparent;\n",
              "    border-bottom-color: var(--fill-color);\n",
              "    animation:\n",
              "      spin 1s steps(1) infinite;\n",
              "  }\n",
              "\n",
              "  @keyframes spin {\n",
              "    0% {\n",
              "      border-color: transparent;\n",
              "      border-bottom-color: var(--fill-color);\n",
              "      border-left-color: var(--fill-color);\n",
              "    }\n",
              "    20% {\n",
              "      border-color: transparent;\n",
              "      border-left-color: var(--fill-color);\n",
              "      border-top-color: var(--fill-color);\n",
              "    }\n",
              "    30% {\n",
              "      border-color: transparent;\n",
              "      border-left-color: var(--fill-color);\n",
              "      border-top-color: var(--fill-color);\n",
              "      border-right-color: var(--fill-color);\n",
              "    }\n",
              "    40% {\n",
              "      border-color: transparent;\n",
              "      border-right-color: var(--fill-color);\n",
              "      border-top-color: var(--fill-color);\n",
              "    }\n",
              "    60% {\n",
              "      border-color: transparent;\n",
              "      border-right-color: var(--fill-color);\n",
              "    }\n",
              "    80% {\n",
              "      border-color: transparent;\n",
              "      border-right-color: var(--fill-color);\n",
              "      border-bottom-color: var(--fill-color);\n",
              "    }\n",
              "    90% {\n",
              "      border-color: transparent;\n",
              "      border-bottom-color: var(--fill-color);\n",
              "    }\n",
              "  }\n",
              "</style>\n",
              "\n",
              "  <script>\n",
              "    async function quickchart(key) {\n",
              "      const quickchartButtonEl =\n",
              "        document.querySelector('#' + key + ' button');\n",
              "      quickchartButtonEl.disabled = true;  // To prevent multiple clicks.\n",
              "      quickchartButtonEl.classList.add('colab-df-spinner');\n",
              "      try {\n",
              "        const charts = await google.colab.kernel.invokeFunction(\n",
              "            'suggestCharts', [key], {});\n",
              "      } catch (error) {\n",
              "        console.error('Error during call to suggestCharts:', error);\n",
              "      }\n",
              "      quickchartButtonEl.classList.remove('colab-df-spinner');\n",
              "      quickchartButtonEl.classList.add('colab-df-quickchart-complete');\n",
              "    }\n",
              "    (() => {\n",
              "      let quickchartButtonEl =\n",
              "        document.querySelector('#df-fee22b60-30cc-4a36-b0b9-ec94a5193b42 button');\n",
              "      quickchartButtonEl.style.display =\n",
              "        google.colab.kernel.accessAllowed ? 'block' : 'none';\n",
              "    })();\n",
              "  </script>\n",
              "</div>\n",
              "    </div>\n",
              "  </div>\n"
            ],
            "application/vnd.google.colaboratory.intrinsic+json": {
              "type": "dataframe",
              "variable_name": "df",
              "summary": "{\n  \"name\": \"df\",\n  \"rows\": 85171,\n  \"fields\": [\n    {\n      \"column\": \"place_code\",\n      \"properties\": {\n        \"dtype\": \"number\",\n        \"std\": 12108053,\n        \"min\": 1370010,\n        \"max\": 46370019,\n        \"num_unique_values\": 1004,\n        \"samples\": [\n          40370032,\n          25370025,\n          26370021\n        ],\n        \"semantic_type\": \"\",\n        \"description\": \"\"\n      }\n    },\n    {\n      \"column\": \"date\",\n      \"properties\": {\n        \"dtype\": \"object\",\n        \"num_unique_values\": 85,\n        \"samples\": [\n          \"2024-04-19\",\n          \"2024-02-01\",\n          \"2024-04-09\"\n        ],\n        \"semantic_type\": \"\",\n        \"description\": \"\"\n      }\n    },\n    {\n      \"column\": \"mankai_date\",\n      \"properties\": {\n        \"dtype\": \"object\",\n        \"num_unique_values\": 63,\n        \"samples\": [\n          \"2024-03-18\",\n          \"2024-05-14\",\n          \"2024-05-12\"\n        ],\n        \"semantic_type\": \"\",\n        \"description\": \"\"\n      }\n    },\n    {\n      \"column\": \"kaika_date\",\n      \"properties\": {\n        \"dtype\": \"object\",\n        \"num_unique_values\": 68,\n        \"samples\": [\n          \"2024-03-27\",\n          \"2024-04-24\",\n          \"2024-05-09\"\n        ],\n        \"semantic_type\": \"\",\n        \"description\": \"\"\n      }\n    },\n    {\n      \"column\": \"meter\",\n      \"properties\": {\n        \"dtype\": \"number\",\n        \"std\": 69,\n        \"min\": 0,\n        \"max\": 200,\n        \"num_unique_values\": 199,\n        \"samples\": [\n          75,\n          7,\n          110\n        ],\n        \"semantic_type\": \"\",\n        \"description\": \"\"\n      }\n    },\n    {\n      \"column\": \"tavg\",\n      \"properties\": {\n        \"dtype\": \"number\",\n        \"std\": 5.355106012530637,\n        \"min\": -14.5,\n        \"max\": 22.2,\n        \"num_unique_values\": 311,\n        \"samples\": [\n          18.6,\n          -3.2,\n          11.6\n        ],\n        \"semantic_type\": \"\",\n        \"description\": \"\"\n      }\n    },\n    {\n      \"column\": \"tmin\",\n      \"properties\": {\n        \"dtype\": \"number\",\n        \"std\": 5.43750073781695,\n        \"min\": -22.2,\n        \"max\": 19.4,\n        \"num_unique_values\": 343,\n        \"samples\": [\n          -9.8,\n          -4.1,\n          -11.6\n        ],\n        \"semantic_type\": \"\",\n        \"description\": \"\"\n      }\n    },\n    {\n      \"column\": \"tmax\",\n      \"properties\": {\n        \"dtype\": \"number\",\n        \"std\": 5.892252351500606,\n        \"min\": -6.0,\n        \"max\": 29.8,\n        \"num_unique_values\": 337,\n        \"samples\": [\n          10.2,\n          0.3,\n          6.8\n        ],\n        \"semantic_type\": \"\",\n        \"description\": \"\"\n      }\n    },\n    {\n      \"column\": \"prcp\",\n      \"properties\": {\n        \"dtype\": \"number\",\n        \"std\": 10.359411081595308,\n        \"min\": 0.0,\n        \"max\": 140.5,\n        \"num_unique_values\": 582,\n        \"samples\": [\n          48.2,\n          29.2,\n          28.2\n        ],\n        \"semantic_type\": \"\",\n        \"description\": \"\"\n      }\n    }\n  ]\n}"
            }
          },
          "metadata": {},
          "execution_count": 33
        }
      ],
      "source": [
        "df.head(10)"
      ]
    },
    {
      "cell_type": "code",
      "execution_count": 34,
      "id": "aba76fbd",
      "metadata": {
        "colab": {
          "base_uri": "https://localhost:8080/"
        },
        "id": "aba76fbd",
        "outputId": "3c999ed5-1e55-4811-fa35-9b2e20130c50"
      },
      "outputs": [
        {
          "output_type": "stream",
          "name": "stdout",
          "text": [
            "<class 'pandas.core.frame.DataFrame'>\n",
            "RangeIndex: 85171 entries, 0 to 85170\n",
            "Data columns (total 9 columns):\n",
            " #   Column       Non-Null Count  Dtype  \n",
            "---  ------       --------------  -----  \n",
            " 0   place_code   85171 non-null  int64  \n",
            " 1   date         85171 non-null  object \n",
            " 2   mankai_date  85171 non-null  object \n",
            " 3   kaika_date   85171 non-null  object \n",
            " 4   meter        85171 non-null  int64  \n",
            " 5   tavg         75964 non-null  float64\n",
            " 6   tmin         75964 non-null  float64\n",
            " 7   tmax         75964 non-null  float64\n",
            " 8   prcp         73766 non-null  float64\n",
            "dtypes: float64(4), int64(2), object(3)\n",
            "memory usage: 5.8+ MB\n"
          ]
        }
      ],
      "source": [
        "df.info()"
      ]
    },
    {
      "cell_type": "code",
      "execution_count": 35,
      "id": "b97be1ec",
      "metadata": {
        "colab": {
          "base_uri": "https://localhost:8080/"
        },
        "id": "b97be1ec",
        "outputId": "70299d12-0f58-44a2-f7db-176be74862bc"
      },
      "outputs": [
        {
          "output_type": "execute_result",
          "data": {
            "text/plain": [
              "place_code         0\n",
              "date               0\n",
              "mankai_date        0\n",
              "kaika_date         0\n",
              "meter              0\n",
              "tavg            9207\n",
              "tmin            9207\n",
              "tmax            9207\n",
              "prcp           11405\n",
              "dtype: int64"
            ]
          },
          "metadata": {},
          "execution_count": 35
        }
      ],
      "source": [
        "# проверим пропуски в данных и устраним их\n",
        "na_mask = df.isna()\n",
        "na_counts = na_mask.sum()\n",
        "na_counts"
      ]
    },
    {
      "cell_type": "code",
      "execution_count": 36,
      "id": "acba0e52",
      "metadata": {
        "colab": {
          "base_uri": "https://localhost:8080/"
        },
        "id": "acba0e52",
        "outputId": "b9e492f2-82c2-4daa-d614-bb1fce7066ed"
      },
      "outputs": [
        {
          "output_type": "execute_result",
          "data": {
            "text/plain": [
              "place_code     0\n",
              "date           0\n",
              "mankai_date    0\n",
              "kaika_date     0\n",
              "meter          0\n",
              "tavg           0\n",
              "tmin           0\n",
              "tmax           0\n",
              "prcp           0\n",
              "dtype: int64"
            ]
          },
          "metadata": {},
          "execution_count": 36
        }
      ],
      "source": [
        "df.dropna(inplace=True)\n",
        "na_mask = df.isna()\n",
        "na_counts = na_mask.sum()\n",
        "na_counts"
      ]
    },
    {
      "cell_type": "code",
      "execution_count": 38,
      "id": "106c5da9",
      "metadata": {
        "id": "106c5da9"
      },
      "outputs": [],
      "source": [
        "# Разделим набор данных на обучающую и тестувую выборки\n",
        "X, Y = df['mankai_date'], df['kaika_date']\n",
        "X_train, X_test, y_train, y_test = train_test_split(X, Y, test_size=0.2, random_state=42)\n",
        "\n",
        "time_arr = []"
      ]
    },
    {
      "cell_type": "code",
      "execution_count": 39,
      "id": "b4478280",
      "metadata": {
        "id": "b4478280"
      },
      "outputs": [],
      "source": [
        "# векторизация признаков с помощью CountVectorizer\n",
        "count_vect = CountVectorizer()\n",
        "X_train_counts = count_vect.fit_transform(X_train)\n",
        "X_test_counts = count_vect.transform(X_test)"
      ]
    },
    {
      "cell_type": "code",
      "execution_count": 40,
      "id": "77e4cb2d",
      "metadata": {
        "id": "77e4cb2d"
      },
      "outputs": [],
      "source": [
        "# векторизация признаков с помощью TfidfVectorizer\n",
        "tfidf_vect = TfidfVectorizer()\n",
        "X_train_tfidf = tfidf_vect.fit_transform(X_train)\n",
        "X_test_tfidf = tfidf_vect.transform(X_test)"
      ]
    },
    {
      "cell_type": "code",
      "execution_count": 41,
      "id": "9077dfaf",
      "metadata": {
        "colab": {
          "base_uri": "https://localhost:8080/"
        },
        "id": "9077dfaf",
        "outputId": "37514997-38f0-4c34-c77c-ebb25925c987"
      },
      "outputs": [
        {
          "output_type": "stream",
          "name": "stdout",
          "text": [
            "Точность (CountVectorizer + LinearSVC): 0.27104514030093535\n",
            "Точность (CountVectorizer + LogisticRegression): 0.2721295919750576\n"
          ]
        }
      ],
      "source": [
        "# Произведем обучения вдух классификаторов (по варианту) для CountVectorizer\n",
        "\n",
        "# LinearSVC\n",
        "gbc = LinearSVC()\n",
        "start_time = time.time()\n",
        "gbc.fit(X_train_counts, y_train)\n",
        "train_time = time.time() - start_time\n",
        "time_arr.append(train_time)\n",
        "pred_gbc_counts = gbc.predict(X_test_counts)\n",
        "print(\"Точность (CountVectorizer + LinearSVC):\", accuracy_score(y_test, pred_gbc_counts))\n",
        "\n",
        "# Logistic Regression\n",
        "lr = LogisticRegression(max_iter=1000)\n",
        "start_time = time.time()\n",
        "lr.fit(X_train_counts, y_train)\n",
        "train_time = time.time() - start_time\n",
        "time_arr.append(train_time)\n",
        "pred_lr_counts = lr.predict(X_test_counts)\n",
        "print(\"Точность (CountVectorizer + LogisticRegression):\", accuracy_score(y_test, pred_lr_counts))"
      ]
    },
    {
      "cell_type": "code",
      "execution_count": 42,
      "id": "6fa4ac88",
      "metadata": {
        "colab": {
          "base_uri": "https://localhost:8080/"
        },
        "id": "6fa4ac88",
        "outputId": "87ed78ed-4416-4c0f-e7aa-a41b6dca3360"
      },
      "outputs": [
        {
          "output_type": "stream",
          "name": "stdout",
          "text": [
            "Точность (TfidfVectorizer + LinearSVC): 0.27104514030093535\n",
            "Точность (TfidfVectorizer + LogisticRegression): 0.27057069269350686\n"
          ]
        }
      ],
      "source": [
        "# Произведем обучения вдух классификаторов (по варианту) для TfidfVectorizer\n",
        "\n",
        "# LinearSVC\n",
        "gbc = LinearSVC()\n",
        "start_time = time.time()\n",
        "gbc.fit(X_train_tfidf, y_train)\n",
        "train_time = time.time() - start_time\n",
        "time_arr.append(train_time)\n",
        "pred_gbc_tfidf = gbc.predict(X_test_tfidf)\n",
        "print(\"Точность (TfidfVectorizer + LinearSVC):\", accuracy_score(y_test, pred_gbc_tfidf))\n",
        "\n",
        "# Logistic Regression\n",
        "lr = LogisticRegression(max_iter=1000)\n",
        "start_time = time.time()\n",
        "lr.fit(X_train_tfidf, y_train)\n",
        "train_time = time.time() - start_time\n",
        "time_arr.append(train_time)\n",
        "pred_lr_tfidf = lr.predict(X_test_tfidf)\n",
        "print(\"Точность (TfidfVectorizer + LogisticRegression):\", accuracy_score(y_test, pred_lr_tfidf))"
      ]
    },
    {
      "cell_type": "code",
      "execution_count": 43,
      "id": "4a229509",
      "metadata": {
        "colab": {
          "base_uri": "https://localhost:8080/"
        },
        "id": "4a229509",
        "outputId": "6cded285-4d4d-45ee-c78f-728d5e798ec3"
      },
      "outputs": [
        {
          "output_type": "stream",
          "name": "stdout",
          "text": [
            "+----------------------------------------+----------------------+------------------+\n",
            "| Связка                                 |   Точность валидации |   Время обучения |\n",
            "+========================================+======================+==================+\n",
            "| (CountVectorizer + LogisticRegression) |             0.27213  |         15.4454  |\n",
            "+----------------------------------------+----------------------+------------------+\n",
            "| (CountVectorizer + LinearSVC)          |             0.271045 |         80.2609  |\n",
            "+----------------------------------------+----------------------+------------------+\n",
            "| (TfidfVectorizer + LinearSVC)          |             0.271045 |         44.3085  |\n",
            "+----------------------------------------+----------------------+------------------+\n",
            "| (TfidfVectorizer + LogisticRegression) |             0.270571 |          6.57759 |\n",
            "+----------------------------------------+----------------------+------------------+\n"
          ]
        }
      ],
      "source": [
        "from tabulate import tabulate\n",
        "\n",
        "data = [\n",
        "    [\"(CountVectorizer + LogisticRegression)\", accuracy_score(y_test, pred_lr_counts), time_arr[0]],\n",
        "    [\"(CountVectorizer + LinearSVC)\", accuracy_score(y_test, pred_gbc_counts), time_arr[1]],\n",
        "    [\"(TfidfVectorizer + LogisticRegression)\", accuracy_score(y_test, pred_lr_tfidf), time_arr[2]],\n",
        "    [\"(TfidfVectorizer + LinearSVC)\", accuracy_score(y_test, pred_gbc_tfidf), time_arr[3]]\n",
        "]\n",
        "\n",
        "sorted_data = sorted(data, key=lambda x: x[1], reverse=True)\n",
        "\n",
        "# Вывод отсортированных данных в виде таблицы\n",
        "print(tabulate(sorted_data, ['Связка','Точность валидации', 'Время обучения'], tablefmt=\"grid\"))"
      ]
    }
  ],
  "metadata": {
    "kernelspec": {
      "display_name": "Python 3 (ipykernel)",
      "language": "python",
      "name": "python3"
    },
    "language_info": {
      "codemirror_mode": {
        "name": "ipython",
        "version": 3
      },
      "file_extension": ".py",
      "mimetype": "text/x-python",
      "name": "python",
      "nbconvert_exporter": "python",
      "pygments_lexer": "ipython3",
      "version": "3.10.9"
    },
    "colab": {
      "provenance": []
    }
  },
  "nbformat": 4,
  "nbformat_minor": 5
}